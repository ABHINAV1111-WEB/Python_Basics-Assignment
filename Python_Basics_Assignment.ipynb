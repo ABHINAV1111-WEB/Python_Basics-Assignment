{
  "nbformat": 4,
  "nbformat_minor": 0,
  "metadata": {
    "colab": {
      "provenance": []
    },
    "kernelspec": {
      "name": "python3",
      "display_name": "Python 3"
    },
    "language_info": {
      "name": "python"
    }
  },
  "cells": [
    {
      "cell_type": "markdown",
      "source": [
        "**1. What is Python, and why is it popular ?**\n",
        "\n",
        "**Ans:**\n",
        "\n",
        "**Python's definition :**\n",
        "\n",
        "Python is a high-level, interpreted programming language that is widely used for various purposes such as web development, scientific computing, data analysis, artificial intelligence, and more. Created in the late 1980s by Guido van Rossum, Python is known for its simplicity, readability, and large community support.\n",
        "\n",
        "**Why is Python popular?**\n",
        "\n",
        "**Ease of Use and Readability:**\n",
        "Python’s syntax is clean and straightforward, making it easy to learn and read.\n",
        "\n",
        "**Versatility:**\n",
        "Python can be used for web development, data analysis, artificial intelligence, scientific computing, and more.\n",
        "\n",
        "**Community and Libraries:**\n",
        " Python boasts a large and active community, providing extensive libraries and frameworks, such as Pandas for data analysis, Django for web development, and TensorFlow for machine learning.\n",
        "\n",
        "**Interpreted Language:**\n",
        "Python is an interpreted language, which means you can run code as soon as you write it, making it easier to test and debug.\n",
        "\n"
      ],
      "metadata": {
        "id": "ui5BnXfEJKKB"
      }
    },
    {
      "cell_type": "markdown",
      "source": [
        "**2. What is an interpreter in Python ?**\n",
        "\n",
        "**Ans:**\n",
        "\n",
        "An interpreter in Python is a program that executes Python code line by line. Unlike compiled languages that translate the entire code into machine language at once, Python interpreters process code one statement at a time, making it easier to debug and test.\n",
        "\n",
        "**How does an interpreter work?**\n",
        "\n",
        "**Reading:** The interpreter reads the Python source code.\n",
        "\n",
        "**Parsing:** The code is parsed into an intermediate format, often called bytecode.\n",
        "\n",
        "**Executing:** The bytecode is then executed by the Python Virtual Machine (PVM).\n",
        "\n",
        "Example:Let's say we have a simple Python script to print \"Hello, World!\":\n",
        "\n",
        " #This is a Python script to print a message\n",
        "print(\"Hello, World!\")\n",
        "#output:'Hello, World'\n",
        "\n",
        "When you run this script, the Python interpreter reads and executes each line. In this case, it reads the print statement and outputs Hello, World! to the console."
      ],
      "metadata": {
        "id": "pufhaoInMOib"
      }
    },
    {
      "cell_type": "markdown",
      "source": [
        "**3. What are pre-defined keywords in Python ?**\n",
        "\n",
        "**Ans:**\n",
        "\n",
        "Pre-defined keywords in Python are reserved words that have special meanings and functionalities. You can't use these keywords as identifiers (e.g., variable names, function names) because they are part of the Python syntax.\n",
        "\n",
        "You can check Python keywords by typing: help('keywords')"
      ],
      "metadata": {
        "id": "QRNhgYehPUMD"
      }
    },
    {
      "cell_type": "code",
      "source": [
        "# Python keywords:\n",
        "help('keywords')"
      ],
      "metadata": {
        "colab": {
          "base_uri": "https://localhost:8080/"
        },
        "id": "Kjh_vnOEQl6z",
        "outputId": "f855ff28-4365-44cd-9c92-04f95b1e4303"
      },
      "execution_count": 2,
      "outputs": [
        {
          "output_type": "stream",
          "name": "stdout",
          "text": [
            "\n",
            "Here is a list of the Python keywords.  Enter any keyword to get more help.\n",
            "\n",
            "False               class               from                or\n",
            "None                continue            global              pass\n",
            "True                def                 if                  raise\n",
            "and                 del                 import              return\n",
            "as                  elif                in                  try\n",
            "assert              else                is                  while\n",
            "async               except              lambda              with\n",
            "await               finally             nonlocal            yield\n",
            "break               for                 not                 \n",
            "\n"
          ]
        }
      ]
    },
    {
      "cell_type": "markdown",
      "source": [
        "**4.Can keywords be used as variable names ?**\n",
        "\n",
        "**Ans:**\n",
        "\n",
        "No, keywords cannot be used as variable names in Python. Keywords are reserved words with special meanings, and using them as variable names will result in a syntax error.\n",
        "\n",
        "For example, if you try to use a keyword as a variable name:\n"
      ],
      "metadata": {
        "id": "o5VUZkkHRAwp"
      }
    },
    {
      "cell_type": "code",
      "source": [
        "# def is a keyword used for defining functions, and it cannot be used as a variable name.\n",
        "def = 10  # This will cause a syntax error\n",
        "print(def)"
      ],
      "metadata": {
        "colab": {
          "base_uri": "https://localhost:8080/",
          "height": 106
        },
        "id": "l5O7nOM7Rrbo",
        "outputId": "7b1a6495-4157-407f-d70c-65d9fdb67139"
      },
      "execution_count": 3,
      "outputs": [
        {
          "output_type": "error",
          "ename": "SyntaxError",
          "evalue": "invalid syntax (<ipython-input-3-613a53f267c4>, line 2)",
          "traceback": [
            "\u001b[0;36m  File \u001b[0;32m\"<ipython-input-3-613a53f267c4>\"\u001b[0;36m, line \u001b[0;32m2\u001b[0m\n\u001b[0;31m    def = 10  # This will cause a syntax error\u001b[0m\n\u001b[0m        ^\u001b[0m\n\u001b[0;31mSyntaxError\u001b[0m\u001b[0;31m:\u001b[0m invalid syntax\n"
          ]
        }
      ]
    },
    {
      "cell_type": "markdown",
      "source": [
        "**5. What is mutability in Python ?**\n",
        "\n",
        "**Ans:**\n",
        "\n",
        "Mutability in Python refers to the ability of an object to be changed after it is created. In other words, if an object is mutable, you can modify its content without creating a new object.\n",
        "\n",
        "**Mutable Objects:** Lists, dictionaries, and sets are examples of mutable objects in Python. You can change their content by adding, removing, or modifying elements.\n",
        "\n",
        "Example:"
      ],
      "metadata": {
        "id": "rc4AQT5ZSJSn"
      }
    },
    {
      "cell_type": "code",
      "source": [
        "# Creating a list\n",
        "my_list = [1, 2, 3]\n",
        "\n",
        "# Modifying the list\n",
        "my_list.append(4)  # Adding an element\n",
        "print(my_list)     # Output: [1, 2, 3, 4]\n",
        "\n",
        "my_list[1] = 20    # Changing an element\n",
        "print(my_list)     # Output: [1, 20, 3, 4]"
      ],
      "metadata": {
        "colab": {
          "base_uri": "https://localhost:8080/"
        },
        "id": "VRAsYqFwSvc8",
        "outputId": "69b2a3f9-0c40-4e94-d873-e7485b3f412a"
      },
      "execution_count": 4,
      "outputs": [
        {
          "output_type": "stream",
          "name": "stdout",
          "text": [
            "[1, 2, 3, 4]\n",
            "[1, 20, 3, 4]\n"
          ]
        }
      ]
    },
    {
      "cell_type": "markdown",
      "source": [
        "**6. Why are lists mutable, but tuples are immutable ?**\n",
        "\n",
        "**Ans:**\n",
        "\n",
        "**Why are lists mutable?**\n",
        "\n",
        "Flexibility: Lists are designed to be flexible and adaptable. They can grow or shrink dynamically as elements are added or removed.\n",
        "\n",
        "Efficient insertion and deletion: Lists can insert or delete elements at any position, which is useful for applications like stacks, queues, and graphs.\n",
        "\n",
        "Cache efficiency: Lists can take advantage of cache locality, as adjacent elements are stored in contiguous memory locations.\n",
        "\n",
        "**Why are tuples immutable?**\n",
        "\n",
        "Memory efficiency: Tuples require less memory than lists, as they don't need to store metadata like list length or capacity.\n",
        "\n",
        "Faster access: Tuples provide faster access to elements, as they can be accessed directly using indexing.\n",
        "\n",
        "Thread safety: Tuples are inherently thread-safe, as they cannot be modified concurrently by multiple threads."
      ],
      "metadata": {
        "id": "eTmdKL0VTCN0"
      }
    },
    {
      "cell_type": "code",
      "source": [
        "# Create a list and a tuple\n",
        "my_list = [1, 2, 3]\n",
        "my_tuple = (1, 2, 3)\n",
        "\n",
        "# Modify the list\n",
        "my_list[0] = 10\n",
        "print(my_list)  # Output: [10, 2, 3]\n",
        "\n",
        "# Try to modify the tuple (this will raise an error)\n",
        "try:\n",
        "    my_tuple[0] = 10\n",
        "except TypeError as e:\n",
        "    print(e)  # Output: 'tuple' object does not support item assignment"
      ],
      "metadata": {
        "colab": {
          "base_uri": "https://localhost:8080/"
        },
        "id": "3XnE90f_UWBx",
        "outputId": "b8996fdd-e04c-43fe-a705-b53fe57de315"
      },
      "execution_count": 5,
      "outputs": [
        {
          "output_type": "stream",
          "name": "stdout",
          "text": [
            "[10, 2, 3]\n",
            "'tuple' object does not support item assignment\n"
          ]
        }
      ]
    },
    {
      "cell_type": "markdown",
      "source": [
        "**7. What is the difference between “==” and “is” operators in Python ?**\n",
        "\n",
        "**Ans:**\n",
        "\n",
        "**== Operator(Known as Comparision operator**):\n",
        "\n",
        "Purpose: The == operator checks for value equality. It returns True if the values of the two operands are equal, regardless of their identity.\n",
        "\n",
        "Usage: Typically used to compare the contents of objects, such as strings, lists, or other data structures.\n",
        "\n",
        "\n",
        "**is Operator(Known as Identity Operator):**\n",
        "\n",
        "Purpose: The is operator checks for identity equality. It returns True if the two operands refer to the same object in memory.\n",
        "\n",
        "Usage: Used to check if two variables point to the same object, not just equivalent objects.\n",
        "\n",
        "Example:"
      ],
      "metadata": {
        "id": "ICxI21gjUtLZ"
      }
    },
    {
      "cell_type": "code",
      "source": [
        "# == Operator:\n",
        "a = [1, 2, 3]\n",
        "b = [1, 2, 3]\n",
        "\n",
        "print(a == b)  # Output: True (because the values are equal)\n",
        "\n",
        "# is Operator\n",
        "p = [1, 2, 3]\n",
        "q = [1, 2, 3]\n",
        "r = p\n",
        "\n",
        "print(p is q)  # Output: False (because they are different objects in memory)\n",
        "print(r is p)  # Output: True (because they refer to the same object)"
      ],
      "metadata": {
        "colab": {
          "base_uri": "https://localhost:8080/"
        },
        "id": "qNSmm9JAV1xi",
        "outputId": "074face1-f70c-49b1-898f-14ab4feb7fd7"
      },
      "execution_count": 8,
      "outputs": [
        {
          "output_type": "stream",
          "name": "stdout",
          "text": [
            "True\n",
            "False\n",
            "True\n"
          ]
        }
      ]
    },
    {
      "cell_type": "markdown",
      "source": [
        "**8. What are logical operators in Python ?**\n",
        "\n",
        "**Ans:**\n",
        "\n",
        "Logical operators in Python are used to perform logical operations on values, typically returning boolean values (True or False). They are commonly used in conditional statements and expressions to combine multiple conditions.\n",
        "\n",
        "**1. and Operator:**\n",
        "The and operator returns True if both the left and right operands are True. If either operand is False, the result is False.\n",
        "\n",
        "**2. or Operator:**\n",
        "The or operator returns True if either the left or right operand is True. If both operands are False, the result is False.\n",
        "\n",
        "**3. not Operator:**\n",
        "The not operator returns the opposite of the operand's truthiness. If the operand is True, not returns False, and vice versa."
      ],
      "metadata": {
        "id": "UIGxTSDnXQ6q"
      }
    },
    {
      "cell_type": "code",
      "source": [
        "# Using the 'and' operator\n",
        "x = 5\n",
        "y = 3\n",
        "if x > 2 and y > 2:\n",
        "    print(\"Both conditions are true\")\n",
        "\n",
        "# Using the 'or' operator\n",
        "x = 5\n",
        "y = 1\n",
        "if x > 2 or y > 2:\n",
        "    print(\"At least one condition is true\")\n",
        "\n",
        "# Using the 'not' operator\n",
        "x = False\n",
        "if not x:\n",
        "    print(\"x is False\")"
      ],
      "metadata": {
        "colab": {
          "base_uri": "https://localhost:8080/"
        },
        "id": "epKwanWiZzCu",
        "outputId": "0b13f976-b9d3-43b8-bd3a-685aab47feca"
      },
      "execution_count": 9,
      "outputs": [
        {
          "output_type": "stream",
          "name": "stdout",
          "text": [
            "Both conditions are true\n",
            "At least one condition is true\n",
            "x is False\n"
          ]
        }
      ]
    },
    {
      "cell_type": "markdown",
      "source": [
        "**9. What is type casting in Python ?**\n",
        "\n",
        "**Ans:**\n",
        "\n",
        "Type casting in Python refers to the process of converting one data type to another. It's useful when you need to perform operations that require a specific data type. There are two main types of type casting in Python:\n",
        "\n",
        "**a) Implicit Type Casting: **Python automatically converts one data type to another without explicit instructions from the programmer. This usually happens when performing operations between different data types.\n",
        "\n",
        "x = 5   # integer\n",
        "\n",
        "y = 3.5 # float\n",
        "\n",
        "result = x + y\n",
        "\n",
        "print(result)  # Output: 8.5 (float)\n",
        "\n",
        "\n",
        "**b) Explicit Type Casting: **The programmer manually converts one data type to another using built-in functions like int(), float(), str(), etc.\n",
        "\n",
        "x = 5.5   # float\n",
        "\n",
        "y = int(x) # explicit conversion to integer\n",
        "\n",
        "print(y)  # Output: 5\n",
        "\n",
        "\n",
        "Here are some common type casting functions in Python: **bold text**\n",
        "\n",
        "int(): Converts a value to an integer.\n",
        "float(): Converts a value to a float.\n",
        "str(): Converts a value to a string.\n",
        "bool(): Converts a value to a boolean.\n",
        "complex(): Converts a value to a complex number.\n",
        "list(): Converts a value to a list.\n",
        "tuple(): Converts a value to a tuple.\n",
        "dict(): Converts a value to a dictionary."
      ],
      "metadata": {
        "id": "7TtqCVJ4acgI"
      }
    },
    {
      "cell_type": "markdown",
      "source": [
        "**10. What is the difference between implicit and explicit type casting ?**\n",
        "\n",
        "**Ans:**\n",
        "\n",
        "**Difference between implicit and explicit type casting:**\n",
        "\n",
        "**Implicit Type Casting:**\n",
        "\n",
        "Control: Performed automatically by Python.\n",
        "\n",
        "Conversion: Happens without any explicit instruction from the programmer.\n",
        "\n",
        "Purpose: Ensures that operations between different data types do not result in errors, such as adding an integer to a float.\n",
        "\n",
        "\n",
        "**Explicit Type Casting:**\n",
        "\n",
        "Control: Performed manually by the programmer using built-in functions.\n",
        "\n",
        "Conversion: Happens only when explicitly instructed by the programmer.\n",
        "\n",
        "Purpose: Allows precise control over type conversion to meet specific requirements, such as converting a string to an integer for arithmetic operations."
      ],
      "metadata": {
        "id": "eeRkuarBcPVa"
      }
    },
    {
      "cell_type": "markdown",
      "source": [
        "**11.  What is the purpose of conditional statements in Python ?**\n",
        "\n",
        "**Ans:**\n",
        "\n",
        "The purpose of conditional statements in Python is to control the flow of a program based on certain conditions. They allow the program to make decisions and execute specific blocks of code only when certain conditions are met. This makes your programs more dynamic and interactive.\n",
        "\n",
        "**Conditional statements include:**\n",
        "\n",
        "if statement: Executes a block of code if a specified condition is True.\n",
        "\n",
        "elif statement: Allows you to check multiple conditions.\n",
        "\n",
        "else statement: Executes a block of code if none of the previous conditions are True.\n",
        "\n",
        "Example:"
      ],
      "metadata": {
        "id": "dt7tf1GreIfG"
      }
    },
    {
      "cell_type": "code",
      "source": [
        "# A simple example using conditional statements\n",
        "age = 18\n",
        "\n",
        "if age < 18: #Checks if age is less than 18. If True, it prints \"You are a minor.\"\n",
        "    print(\"You are a minor.\")\n",
        "\n",
        "elif age == 18: #If the first condition is False, it checks if age is equal to 18. If True, it prints \"You just became an adult!\"\n",
        "    print(\"You just became an adult!\")\n",
        "\n",
        "else: # If none of the above conditions are True, it prints \"You are an adult.\"\n",
        "    print(\"You are an adult.\")"
      ],
      "metadata": {
        "colab": {
          "base_uri": "https://localhost:8080/"
        },
        "id": "uOJD6U7uiJE_",
        "outputId": "e7d1111c-46bd-4e81-ee59-b07035666734"
      },
      "execution_count": 11,
      "outputs": [
        {
          "output_type": "stream",
          "name": "stdout",
          "text": [
            "You just became an adult!\n"
          ]
        }
      ]
    },
    {
      "cell_type": "markdown",
      "source": [
        "**12.  How does the elif statement work ?**\n",
        "\n",
        "**Ans:**\n",
        "\n",
        "**How elif Works:**\n",
        "\n",
        "**Evaluate if Condition:** If the condition is True, the associated block of code is executed.\n",
        "\n",
        "**Evaluate elif Conditions:** If the if condition is False, each elif condition is evaluated in order. The first elif condition that is True will have its block of code executed.\n",
        "\n",
        "**Execute else Block:** If none of the if or elif conditions are True, the else block is executed (if present)."
      ],
      "metadata": {
        "id": "I1I5N-UNiyUR"
      }
    },
    {
      "cell_type": "code",
      "source": [
        "# Determine the grade based on a score\n",
        "score = 85\n",
        "\n",
        "if score >= 90: #The if condition checks if the score is greater than or equal to 90. If True, it prints \"Grade: A\".\n",
        "    print(\"Grade: A\")\n",
        "\n",
        "elif score >= 80: #If the, if condition is False and score is greater than or equal to 80. it prints \"Grade: B\".\n",
        "    print(\"Grade: B\")\n",
        "\n",
        "elif score >= 70: #If the first elif condition is False, the second elif condition checks\n",
        "    print(\"Grade: C\")\n",
        "\n",
        "else:   #If none of the if or elif conditions are True, the else block is executed, printing \"Grade: D\".\n",
        "    print(\"Grade: D\")\n"
      ],
      "metadata": {
        "colab": {
          "base_uri": "https://localhost:8080/"
        },
        "id": "ntL8zfh5kFct",
        "outputId": "4d7ca979-a2c9-46a4-8ee2-742a20f7a0f1"
      },
      "execution_count": 12,
      "outputs": [
        {
          "output_type": "stream",
          "name": "stdout",
          "text": [
            "Grade: B\n"
          ]
        }
      ]
    },
    {
      "cell_type": "markdown",
      "source": [
        "**13. What is the difference between for and while loops ?**\n",
        "\n",
        "**Ans: **\n",
        "\n",
        "Loops are a fundamental concept in programming, allowing you to execute a block of code repeatedly. Python provides two primary types of loops: for loops and while loops. Understanding the differences between them is essential for effective programming.\n",
        "\n",
        "**Differences between for and while loops:**\n",
        "\n",
        "**Syntax: **\n",
        "\n",
        "*   for i in range(5): #iterate over range\n",
        "\n",
        "*   while 2 > 5: # repeatedly executed(given below) block of code until specific condition is met.\n",
        "\n",
        "\n",
        "\n",
        "**Iteration: **for loops iterate over a sequence or range, while while loops execute based on a condition.\n",
        "\n",
        "**Control Structure:** for loops have a built-in control structure (the iterable), whereas while loops rely on a conditional statement.\n",
        "\n",
        "**Termination:** for loops terminate automatically when the iterable is exhausted, while while loops require an explicit condition to terminate.\n",
        "\n",
        "**Use Cases:** for loops are suitable for iterating over collections, while while loops are better suited for conditional execution or repetitive tasks."
      ],
      "metadata": {
        "id": "_DOMgNxrltYd"
      }
    },
    {
      "cell_type": "markdown",
      "source": [
        "**14. Describe a scenario where a while loop is more suitable than a for loop.**\n",
        "\n",
        "**Ans:**\n",
        "\n",
        "A while loop is more suitable than a for loop in situations where the number of iterations is not known beforehand and the loop must continue to run until a specific condition is met.\n",
        "\n",
        "Example:\n",
        "User authentication system: Imagine you're building a system where users have to enter their correct username and password to gain access. You don't know how many attempts the user will need, so a while loop is more appropriate.\n"
      ],
      "metadata": {
        "id": "asN8S8rOqmJA"
      }
    },
    {
      "cell_type": "code",
      "source": [
        "# Correct username and password\n",
        "correct_username = \"Om\"\n",
        "correct_password = \"555\"\n",
        "\n",
        "# Initialize user input variables\n",
        "input_username = \"\"\n",
        "input_password = \"\"\n",
        "\n",
        "# Continue to prompt the user until the correct username and password are entered\n",
        "while input_username != correct_username or input_password != correct_password:\n",
        "    input_username = input(\"Enter your username: \")\n",
        "    input_password = input(\"Enter your password: \")\n",
        "\n",
        "    if input_username == correct_username and input_password == correct_password:\n",
        "        print(\"Access granted!\")\n",
        "    else:\n",
        "        print(\"Invalid credentials, please try again.\")\n",
        "\n",
        "# This loop will keep running until the user enters the correct username and password"
      ],
      "metadata": {
        "colab": {
          "base_uri": "https://localhost:8080/"
        },
        "id": "5Mymdrniu4Ke",
        "outputId": "f0076f64-b7b7-46cd-f8f1-779497b080f6"
      },
      "execution_count": 14,
      "outputs": [
        {
          "output_type": "stream",
          "name": "stdout",
          "text": [
            "Enter your username: Dj\n",
            "Enter your password: 453\n",
            "Invalid credentials, please try again.\n",
            "Enter your username: Om\n",
            "Enter your password: 555\n",
            "Access granted!\n"
          ]
        }
      ]
    },
    {
      "cell_type": "markdown",
      "source": [
        "**Practical Questions**"
      ],
      "metadata": {
        "id": "XbfNNwxZv7UQ"
      }
    },
    {
      "cell_type": "markdown",
      "source": [
        "**1. Write a Python program to print \"Hello, World!\"?**"
      ],
      "metadata": {
        "id": "B2iY4TXewF68"
      }
    },
    {
      "cell_type": "code",
      "source": [
        "print(\"Hello, World!\") # print() is a inbuilt function used to display the value of variables,expression or combition of both on screen"
      ],
      "metadata": {
        "colab": {
          "base_uri": "https://localhost:8080/"
        },
        "id": "kiJW1PAAwPdB",
        "outputId": "9f723e58-e91a-49b2-cfeb-e1afa0369200"
      },
      "execution_count": 15,
      "outputs": [
        {
          "output_type": "stream",
          "name": "stdout",
          "text": [
            "Hello, World!\n"
          ]
        }
      ]
    },
    {
      "cell_type": "markdown",
      "source": [
        "**2. Write a Python program that displays your name and age.**"
      ],
      "metadata": {
        "id": "GjzY_sBMxdt4"
      }
    },
    {
      "cell_type": "code",
      "source": [
        "# Python program that displays my name and age\n",
        "name ='Advik' # 'Advik' is assigining to name(variable)\n",
        "age= 18   # 18 is assigining to age(variable)\n",
        "print('name:', name, 'and', 'age:',age)"
      ],
      "metadata": {
        "colab": {
          "base_uri": "https://localhost:8080/"
        },
        "id": "TkUaTldYxvEy",
        "outputId": "a6a41ad7-ea9d-4252-9a3a-f8d1fbb4deb7"
      },
      "execution_count": 20,
      "outputs": [
        {
          "output_type": "stream",
          "name": "stdout",
          "text": [
            "name: Advik and age: 18\n"
          ]
        }
      ]
    },
    {
      "cell_type": "markdown",
      "source": [
        "3. Write code to print all the pre-defined keywords in Python using the keyword library ?\n",
        "\n",
        "Ans:\n"
      ],
      "metadata": {
        "id": "UaFJILxN0JPE"
      }
    },
    {
      "cell_type": "code",
      "source": [
        "import keyword\n",
        "\n",
        "# Get all the keywords\n",
        "keywords = keyword.kwlist\n",
        "\n",
        "# Print the keywords\n",
        "print(\"Pre-defined Keywords in Python:\")\n",
        "for i in keywords:\n",
        "    print(i)"
      ],
      "metadata": {
        "colab": {
          "base_uri": "https://localhost:8080/"
        },
        "id": "rlWGIJ8V0pJs",
        "outputId": "dadab46c-4a46-4bc0-c8e3-590ce897680e"
      },
      "execution_count": 23,
      "outputs": [
        {
          "output_type": "stream",
          "name": "stdout",
          "text": [
            "Pre-defined Keywords in Python:\n",
            "False\n",
            "None\n",
            "True\n",
            "and\n",
            "as\n",
            "assert\n",
            "async\n",
            "await\n",
            "break\n",
            "class\n",
            "continue\n",
            "def\n",
            "del\n",
            "elif\n",
            "else\n",
            "except\n",
            "finally\n",
            "for\n",
            "from\n",
            "global\n",
            "if\n",
            "import\n",
            "in\n",
            "is\n",
            "lambda\n",
            "nonlocal\n",
            "not\n",
            "or\n",
            "pass\n",
            "raise\n",
            "return\n",
            "try\n",
            "while\n",
            "with\n",
            "yield\n"
          ]
        }
      ]
    },
    {
      "cell_type": "markdown",
      "source": [
        "**4. Write a program that checks if a given word is a Python keyword.**\n",
        "\n",
        "**Ans:**"
      ],
      "metadata": {
        "id": "pG7SPJqx1Yqw"
      }
    },
    {
      "cell_type": "code",
      "source": [
        "import keyword\n",
        "\n",
        "word = input(\"Enter a word: \")\n",
        "\n",
        "if keyword.iskeyword(word):\n",
        "    print(f\"'{word}' is a Python keyword.\")\n",
        "else:\n",
        "    print(f\"'{word}' is not a Python keyword.\")"
      ],
      "metadata": {
        "colab": {
          "base_uri": "https://localhost:8080/"
        },
        "id": "zCHOczLd50TX",
        "outputId": "b6248f5d-34bc-4dc8-f2f9-b8b23d22049e"
      },
      "execution_count": 26,
      "outputs": [
        {
          "output_type": "stream",
          "name": "stdout",
          "text": [
            "Enter a word: else\n",
            "'else' is a Python keyword.\n"
          ]
        }
      ]
    },
    {
      "cell_type": "markdown",
      "source": [
        "5.  Create a list and tuple in Python, and demonstrate how attempting to change an element works differently\n",
        "for each. **bold text**  \n",
        "\n",
        "\n",
        "**Ans: **"
      ],
      "metadata": {
        "id": "qR4dFrs46cgg"
      }
    },
    {
      "cell_type": "code",
      "source": [
        "# Creating a list\n",
        "list = [1,2,'pwskills', 5]\n",
        "\n",
        "# Modifying an element in the list\n",
        "list[1] = 'Ajay'\n",
        "print(\"Modified List:\", list)"
      ],
      "metadata": {
        "colab": {
          "base_uri": "https://localhost:8080/"
        },
        "id": "2Kt9nsWY71oe",
        "outputId": "15c6d404-fdbf-4937-fa1b-2146430fbb79"
      },
      "execution_count": 29,
      "outputs": [
        {
          "output_type": "stream",
          "name": "stdout",
          "text": [
            "Modified List: [1, 'Ajay', 'pwskills', 5]\n"
          ]
        }
      ]
    },
    {
      "cell_type": "code",
      "source": [
        "# Creating a tuple\n",
        "tuple = (1, 2, 3, 4, 5)\n",
        "\n",
        "#modify an element in the tuple\n",
        "tuple[1]='pwskills'\n",
        "print('modified tuple', tuple) # outcome will be error because tuple is immutable"
      ],
      "metadata": {
        "colab": {
          "base_uri": "https://localhost:8080/",
          "height": 193
        },
        "id": "BNI_0MIUZhpd",
        "outputId": "33c0f931-fd4b-47ba-9384-d8ed31860975"
      },
      "execution_count": 3,
      "outputs": [
        {
          "output_type": "error",
          "ename": "TypeError",
          "evalue": "'tuple' object does not support item assignment",
          "traceback": [
            "\u001b[0;31m---------------------------------------------------------------------------\u001b[0m",
            "\u001b[0;31mTypeError\u001b[0m                                 Traceback (most recent call last)",
            "\u001b[0;32m<ipython-input-3-736dc9c59fb6>\u001b[0m in \u001b[0;36m<cell line: 0>\u001b[0;34m()\u001b[0m\n\u001b[1;32m      3\u001b[0m \u001b[0;34m\u001b[0m\u001b[0m\n\u001b[1;32m      4\u001b[0m \u001b[0;31m#modify an element in the tuple\u001b[0m\u001b[0;34m\u001b[0m\u001b[0;34m\u001b[0m\u001b[0m\n\u001b[0;32m----> 5\u001b[0;31m \u001b[0mtuple\u001b[0m\u001b[0;34m[\u001b[0m\u001b[0;36m1\u001b[0m\u001b[0;34m]\u001b[0m\u001b[0;34m=\u001b[0m\u001b[0;34m'pwskills'\u001b[0m\u001b[0;34m\u001b[0m\u001b[0;34m\u001b[0m\u001b[0m\n\u001b[0m\u001b[1;32m      6\u001b[0m \u001b[0mprint\u001b[0m\u001b[0;34m(\u001b[0m\u001b[0;34m'modified tuple'\u001b[0m\u001b[0;34m,\u001b[0m \u001b[0mtuple\u001b[0m\u001b[0;34m)\u001b[0m \u001b[0;31m# outcome will be error because tuple is immutable\u001b[0m\u001b[0;34m\u001b[0m\u001b[0;34m\u001b[0m\u001b[0m\n",
            "\u001b[0;31mTypeError\u001b[0m: 'tuple' object does not support item assignment"
          ]
        }
      ]
    },
    {
      "cell_type": "markdown",
      "source": [
        "**6. Write a function to demonstrate the behavior of mutable and immutable arguments.**\n",
        "\n",
        "**Ans:**"
      ],
      "metadata": {
        "id": "N2YKR-14avZz"
      }
    },
    {
      "cell_type": "code",
      "source": [
        "def demonstrate_mutable_immutable(mutable_list, immutable_int):\n",
        "    # Modify the mutable list\n",
        "    mutable_list.append(4)  #The function appends 4 to the mutable_list,  affect the original list outside the function.\n",
        "    print(\"Inside function, mutable_list:\", mutable_list)\n",
        "\n",
        "    # Modify the immutable integer\n",
        "    immutable_int += 10    #The function adds 10 to immutable_int, but this change does not affect the original integer outside the function\n",
        "    print(\"Inside function, immutable_int:\", immutable_int)\n",
        "\n",
        "# Initialize mutable and immutable variables\n",
        "my_list = [1, 2, 3]\n",
        "my_int = 5\n",
        "\n",
        "print(\"Before function call, my_list:\", my_list)\n",
        "print(\"Before function call, my_int:\", my_int)\n",
        "\n",
        "# Call the function\n",
        "demonstrate_mutable_immutable(my_list, my_int)\n",
        "\n",
        "print(\"After function call, my_list:\", my_list)\n",
        "print(\"After function call, my_int:\", my_int)"
      ],
      "metadata": {
        "colab": {
          "base_uri": "https://localhost:8080/"
        },
        "id": "7c7AeWOjcbnk",
        "outputId": "6981f298-f4fe-4344-ef40-2155b093dd04"
      },
      "execution_count": 9,
      "outputs": [
        {
          "output_type": "stream",
          "name": "stdout",
          "text": [
            "Before function call, my_list: [1, 2, 3]\n",
            "Before function call, my_int: 5\n",
            "Inside function, mutable_list: [1, 2, 3, 4]\n",
            "Inside function, immutable_int: 15\n",
            "After function call, my_list: [1, 2, 3, 4]\n",
            "After function call, my_int: 5\n"
          ]
        }
      ]
    },
    {
      "cell_type": "markdown",
      "source": [
        "**7.  Write a program that performs basic arithmetic operations on two user-input numbers.**\n",
        "\n",
        "**Ans:**"
      ],
      "metadata": {
        "id": "MhpqA0IAe3nF"
      }
    },
    {
      "cell_type": "code",
      "source": [
        "# Python program that performs basic arithmetic operations on two user-input numbers.\n",
        "\n",
        "# taking first user input\n",
        "first_user_input= int(input('please! enter first number: ')) # int() is used to convert string to int because output of input() function is str\n",
        "\n",
        "# taking second user input\n",
        "second_user_input= int(input('please! enter second number: '))\n",
        "\n",
        "# basic operation(addition)\n",
        "addition= first_user_input + second_user_input\n",
        "\n",
        "print('result of addition: ',addition)"
      ],
      "metadata": {
        "colab": {
          "base_uri": "https://localhost:8080/"
        },
        "id": "Rgjny1J7fBuF",
        "outputId": "196a7ee9-7b56-45fe-e620-23efe1cc1cdb"
      },
      "execution_count": 11,
      "outputs": [
        {
          "output_type": "stream",
          "name": "stdout",
          "text": [
            "please! enter first number: 6\n",
            "please! enter second number: 5\n",
            "result of addition:  11\n"
          ]
        }
      ]
    },
    {
      "cell_type": "markdown",
      "source": [
        "**8.  Write a program to demonstrate the use of logical operators.**\n",
        "\n",
        "**Ans:**"
      ],
      "metadata": {
        "id": "CfX_55qRi0Xa"
      }
    },
    {
      "cell_type": "code",
      "source": [
        "# Program to demonstrate the use of logical operators\n",
        "\n",
        "# Define two variables\n",
        "a = True\n",
        "b = False\n",
        "\n",
        "# Using 'and' operator\n",
        "result_and = a and b  #and operator returns True only if both operands are\n",
        "print(\"a and b is:\", result_and)  # Output: False\n",
        "\n",
        "# Using 'or' operator\n",
        "result_or = a or b #or operator returns True if at least one of the operands is True\n",
        "print(\"a or b is:\", result_or)  # Output: True\n",
        "\n",
        "# Using 'not' operator\n",
        "result_not_a = not a #The not operator inverts the boolean value\n",
        "result_not_b = not b\n",
        "print(\"not a is:\", result_not_a)  # Output: False\n",
        "print(\"not b is:\", result_not_b)  # Output: True\n",
        "\n",
        "# Combined usage of logical operators\n",
        "combined_result = (a and b) or (not a)\n",
        "print(\"Combined logical operation result is:\", combined_result)"
      ],
      "metadata": {
        "colab": {
          "base_uri": "https://localhost:8080/"
        },
        "id": "KjERvP_Ljnna",
        "outputId": "ad205630-0604-4e57-cf90-161eadf91135"
      },
      "execution_count": 12,
      "outputs": [
        {
          "output_type": "stream",
          "name": "stdout",
          "text": [
            "a and b is: False\n",
            "a or b is: True\n",
            "not a is: False\n",
            "not b is: True\n",
            "Combined logical operation result is: False\n"
          ]
        }
      ]
    },
    {
      "cell_type": "markdown",
      "source": [
        "**9. Write a Python program to convert user input from string to integer, float, and boolean types.**\n",
        "\n",
        "**Ans:**"
      ],
      "metadata": {
        "id": "tChGLiJdkovl"
      }
    },
    {
      "cell_type": "code",
      "source": [
        "# Get user input as a string\n",
        "user_input = input(\"Enter a value to convert: \")\n",
        "\n",
        "# Convert to integer\n",
        "int_value = int(user_input) # output: error because str can not be converted to intiger\n",
        "\n",
        "# Convert to float\n",
        "float_value = float(user_input) # output: error because str can not be converted to float\n",
        "\n",
        "# Convert to boolean\n",
        "if user_input.lower() in [\"true\", \"1\", \"yes\"]:\n",
        "    bool_value = True\n",
        "elif user_input.lower() in [\"false\", \"0\", \"no\"]:\n",
        "    bool_value = False\n",
        "else:\n",
        "    bool_value = \"Invalid input for boolean conversion.\""
      ],
      "metadata": {
        "colab": {
          "base_uri": "https://localhost:8080/",
          "height": 228
        },
        "id": "8tBhENyjmf2L",
        "outputId": "dd7d8375-bfac-446a-a366-8aea9e21b370"
      },
      "execution_count": 15,
      "outputs": [
        {
          "name": "stdout",
          "output_type": "stream",
          "text": [
            "Enter a value to convert: str\n"
          ]
        },
        {
          "output_type": "error",
          "ename": "ValueError",
          "evalue": "invalid literal for int() with base 10: 'str'",
          "traceback": [
            "\u001b[0;31m---------------------------------------------------------------------------\u001b[0m",
            "\u001b[0;31mValueError\u001b[0m                                Traceback (most recent call last)",
            "\u001b[0;32m<ipython-input-15-af53169c8e9b>\u001b[0m in \u001b[0;36m<cell line: 0>\u001b[0;34m()\u001b[0m\n\u001b[1;32m      3\u001b[0m \u001b[0;34m\u001b[0m\u001b[0m\n\u001b[1;32m      4\u001b[0m \u001b[0;31m# Convert to integer\u001b[0m\u001b[0;34m\u001b[0m\u001b[0;34m\u001b[0m\u001b[0m\n\u001b[0;32m----> 5\u001b[0;31m \u001b[0mint_value\u001b[0m \u001b[0;34m=\u001b[0m \u001b[0mint\u001b[0m\u001b[0;34m(\u001b[0m\u001b[0muser_input\u001b[0m\u001b[0;34m)\u001b[0m \u001b[0;31m# output: error because str can not be converted to int\u001b[0m\u001b[0;34m\u001b[0m\u001b[0;34m\u001b[0m\u001b[0m\n\u001b[0m\u001b[1;32m      6\u001b[0m \u001b[0;34m\u001b[0m\u001b[0m\n\u001b[1;32m      7\u001b[0m \u001b[0;34m\u001b[0m\u001b[0m\n",
            "\u001b[0;31mValueError\u001b[0m: invalid literal for int() with base 10: 'str'"
          ]
        }
      ]
    },
    {
      "cell_type": "markdown",
      "source": [
        "**10. Write code to demonstrate type casting with list elements.**\n",
        "\n",
        "**Ans:**"
      ],
      "metadata": {
        "id": "pIvzAecqoumt"
      }
    },
    {
      "cell_type": "code",
      "source": [
        "# Initial list of strings\n",
        "string_list = [\"10\", \"20.5\", \"True\", \"False\", \"30\", \"40.75\"]\n",
        "\n",
        "# Initialize lists for different types\n",
        "int_list = []\n",
        "float_list = []\n",
        "bool_list = []\n",
        "\n",
        "# Type casting with list elements\n",
        "for item in string_list:\n",
        "    try:\n",
        "        int_list.append(int(item))\n",
        "    except ValueError:\n",
        "        int_list.append(f\"Cannot convert '{item}' to int\")\n",
        "\n",
        "    try:\n",
        "        float_list.append(float(item))\n",
        "    except ValueError:\n",
        "        float_list.append(f\"Cannot convert '{item}' to float\")\n",
        "\n",
        "    if item.lower() in [\"true\", \"1\", \"yes\"]:\n",
        "        bool_list.append(True)\n",
        "    elif item.lower() in [\"false\", \"0\", \"no\"]:\n",
        "        bool_list.append(False)\n",
        "    else:\n",
        "        bool_list.append(f\"Cannot convert '{item}' to bool\")"
      ],
      "metadata": {
        "id": "7ca4HwVPqUt4"
      },
      "execution_count": 17,
      "outputs": []
    },
    {
      "cell_type": "markdown",
      "source": [
        "**11. Write a program that checks if a number is positive, negative, or zero.**\n",
        "\n",
        "**Ans:**"
      ],
      "metadata": {
        "id": "1OhWJImzrCrs"
      }
    },
    {
      "cell_type": "code",
      "source": [
        "# taking user input\n",
        "num= int(input('please! type a number: '))\n",
        "\n",
        "if num>0:\n",
        "  print(num,' is a positive number')\n",
        "elif num<0:\n",
        "  print(num, 'is a negative number')\n",
        "else:\n",
        "  print('number is equal to zero ')"
      ],
      "metadata": {
        "colab": {
          "base_uri": "https://localhost:8080/"
        },
        "id": "hUlKcR18s5hx",
        "outputId": "d12926da-6678-44df-b604-9d0adc2d0653"
      },
      "execution_count": 20,
      "outputs": [
        {
          "output_type": "stream",
          "name": "stdout",
          "text": [
            "please! type a number: 0\n",
            "number is equal to zero \n"
          ]
        }
      ]
    },
    {
      "cell_type": "markdown",
      "source": [
        "**12.  Write a for loop to print numbers from 1 to 10.**\n",
        "\n",
        "**Ans:**\n",
        "\n"
      ],
      "metadata": {
        "id": "RizLxA4nuiAP"
      }
    },
    {
      "cell_type": "code",
      "source": [
        "# for loop to print number from 1 to 10\n",
        "\n",
        "# iterating number from 1 to 10 by using range(1,11) function\n",
        "for number in range(1,11):\n",
        "  print(number)"
      ],
      "metadata": {
        "colab": {
          "base_uri": "https://localhost:8080/"
        },
        "id": "kWGK-HY2uvH_",
        "outputId": "af7cda2d-9b29-453e-f23a-a07a8ddc7114"
      },
      "execution_count": 22,
      "outputs": [
        {
          "output_type": "stream",
          "name": "stdout",
          "text": [
            "1\n",
            "2\n",
            "3\n",
            "4\n",
            "5\n",
            "6\n",
            "7\n",
            "8\n",
            "9\n",
            "10\n"
          ]
        }
      ]
    },
    {
      "cell_type": "markdown",
      "source": [
        "**13.  Write a Python program to find the sum of all even numbers between 1 and 50.**\n",
        "\n",
        "**Ans:**"
      ],
      "metadata": {
        "id": "U9KS2kYOvQXm"
      }
    },
    {
      "cell_type": "code",
      "source": [
        "#sum of all even numbers between 1 and 50.\n",
        "\n",
        "even_sum= 0 # initializing 0\n",
        "\n",
        "# iterating numbers from 1 to 50 by using range(1,51)\n",
        "for i in range(1,51):\n",
        "  if i%2==0: # by dividing 2 if remainder is 0 then it will be even number\n",
        "    even_sum+=i\n",
        "print(even_sum)"
      ],
      "metadata": {
        "colab": {
          "base_uri": "https://localhost:8080/"
        },
        "id": "4X2GmQiGvus_",
        "outputId": "8f80aa0b-ec35-4ee7-ee04-da50b1e61920"
      },
      "execution_count": 24,
      "outputs": [
        {
          "output_type": "stream",
          "name": "stdout",
          "text": [
            "650\n"
          ]
        }
      ]
    },
    {
      "cell_type": "markdown",
      "source": [
        "**14. Write a program to reverse a string using a while loop.**\n",
        "\n",
        "**Ans:**\n"
      ],
      "metadata": {
        "id": "PIXBzqJJxrFa"
      }
    },
    {
      "cell_type": "code",
      "source": [
        "# given string have to reverse using while loop\n",
        "\n",
        "string= 'pwskills'\n",
        "a= 1 # intializing a to 1\n",
        "\n",
        "while a<= len(string): # while loop will be run upto length of string\n",
        "  print(string[-a],end='') # output: sllikswp i.e. reverse of given string\n",
        "  a+=1"
      ],
      "metadata": {
        "colab": {
          "base_uri": "https://localhost:8080/"
        },
        "id": "dGrvI-_Lx1oU",
        "outputId": "3d25902d-99ae-4c81-bfea-6b12bc8d7816"
      },
      "execution_count": 31,
      "outputs": [
        {
          "output_type": "stream",
          "name": "stdout",
          "text": [
            "sllikswp"
          ]
        }
      ]
    },
    {
      "cell_type": "markdown",
      "source": [
        "**15. Write a Python program to calculate the factorial of a number provided by the user using a while loop.**\n",
        "\n",
        "**Ans:**"
      ],
      "metadata": {
        "id": "cWSk9d9X28O-"
      }
    },
    {
      "cell_type": "code",
      "source": [
        "\n",
        "# Get input from the user\n",
        "number = int(input(\"Enter a number to calculate its factorial: \"))\n",
        "\n",
        "\n",
        "factorial = 1 #Initialize variables\n",
        "i = 1\n",
        "\n",
        "while i <= number: # Use a while loop to calculate the factorial\n",
        "    factorial= factorial*i\n",
        "    i += 1\n",
        "\n",
        " # Print the result\n",
        "print(f\"The factorial of {number} is: {factorial}\")\n"
      ],
      "metadata": {
        "colab": {
          "base_uri": "https://localhost:8080/"
        },
        "id": "PgdXLdlE3dXZ",
        "outputId": "e126cd95-b1bd-45c3-f742-3191ca238682"
      },
      "execution_count": 32,
      "outputs": [
        {
          "output_type": "stream",
          "name": "stdout",
          "text": [
            "Enter a number to calculate its factorial: 5\n",
            "The factorial of 5 is: 120\n"
          ]
        }
      ]
    }
  ]
}